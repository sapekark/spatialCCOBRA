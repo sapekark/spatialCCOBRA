{
 "cells": [
  {
   "cell_type": "code",
   "execution_count": 19,
   "metadata": {
    "scrolled": true
   },
   "outputs": [],
   "source": [
    "import pandas as pd    \n"
   ]
  },
  {
   "cell_type": "code",
   "execution_count": 20,
   "metadata": {},
   "outputs": [],
   "source": [
    "# Create CSV of most frequent responses for a benchmark.\n",
    "def createMostFrequentfile(path, single_choice, filename):\n",
    "    columns = ['Task-ID', 'response']\n",
    "    data = pd.read_csv(path)\n",
    "    df = pd.DataFrame(data, columns=columns)\n",
    "\n",
    "    responses = []\n",
    "    if single_choice:\n",
    "        for _, r in df.iterrows():\n",
    "            resp = r['response'].split(';')[0]\n",
    "            responses.append(resp)\n",
    "         \n",
    "        new_resp = pd.DataFrame({'response': responses})\n",
    "        df.update(new_resp)\n",
    "\n",
    "\n",
    "    most_freq = df.groupby(['Task-ID']).agg(pd.Series.mode)\n",
    "\n",
    "    most_freq = most_freq.rename(columns={\"Task-ID\": \"Task-ID\", \"response\": \"most_frequent_response\"})\n",
    "    print(most_freq)\n",
    "    if single_choice:\n",
    "        most_freq.to_csv('/mnt/d/gitted/spatialccobra/benchmarking/models/Baseline/Most-Frequent-Answer/' +filename)\n",
    "    else:\n",
    "        most_freq.to_csv('/mnt/d/gitted/spatialccobra/benchmarking/models/Baseline/Most-Frequent-Answer/'+filename)\n",
    "\n",
    "        "
   ]
  },
  {
   "cell_type": "code",
   "execution_count": 21,
   "metadata": {},
   "outputs": [
    {
     "name": "stdout",
     "output_type": "stream",
     "text": [
      "        most_frequent_response\n",
      "Task-ID                       \n",
      "1                        south\n",
      "2                   south-west\n",
      "3                   south-west\n",
      "4                         west\n",
      "5                        north\n",
      "...                        ...\n",
      "60                        west\n",
      "61                        east\n",
      "62                        east\n",
      "63                  south-east\n",
      "64                  south-east\n",
      "\n",
      "[64 rows x 1 columns]\n"
     ]
    },
    {
     "ename": "TypeError",
     "evalue": "unsupported operand type(s) for +: 'PosixPath' and 'str'",
     "output_type": "error",
     "traceback": [
      "\u001b[0;31m---------------------------------------------------------------------------\u001b[0m",
      "\u001b[0;31mTypeError\u001b[0m                                 Traceback (most recent call last)",
      "\u001b[0;32m<ipython-input-21-85ec9a3bb741>\u001b[0m in \u001b[0;36m<module>\u001b[0;34m\u001b[0m\n\u001b[1;32m      3\u001b[0m \u001b[0;34m\u001b[0m\u001b[0m\n\u001b[1;32m      4\u001b[0m \u001b[0mpath\u001b[0m \u001b[0;34m=\u001b[0m \u001b[0;34m'/mnt/d/gitted/spatialccobra/benchmarking/data/Ragni2018_carddir.csv'\u001b[0m\u001b[0;34m\u001b[0m\u001b[0;34m\u001b[0m\u001b[0m\n\u001b[0;32m----> 5\u001b[0;31m \u001b[0mcreateMostFrequentfile\u001b[0m\u001b[0;34m(\u001b[0m\u001b[0mpath\u001b[0m\u001b[0;34m,\u001b[0m \u001b[0;32mTrue\u001b[0m\u001b[0;34m,\u001b[0m \u001b[0;34m'single-choice.csv'\u001b[0m\u001b[0;34m)\u001b[0m\u001b[0;34m\u001b[0m\u001b[0;34m\u001b[0m\u001b[0m\n\u001b[0m\u001b[1;32m      6\u001b[0m \u001b[0mpath\u001b[0m \u001b[0;34m=\u001b[0m \u001b[0;34m'/mnt/d/gitted/spatialccobra/benchmarking/data/Ragni2018_smalllarge.csv'\u001b[0m\u001b[0;34m\u001b[0m\u001b[0;34m\u001b[0m\u001b[0m\n\u001b[1;32m      7\u001b[0m \u001b[0mcreateMostFrequentfile\u001b[0m\u001b[0;34m(\u001b[0m\u001b[0mpath\u001b[0m\u001b[0;34m,\u001b[0m \u001b[0;32mFalse\u001b[0m\u001b[0;34m,\u001b[0m \u001b[0;34m'verification.csv'\u001b[0m\u001b[0;34m)\u001b[0m\u001b[0;34m\u001b[0m\u001b[0;34m\u001b[0m\u001b[0m\n",
      "\u001b[0;32m<ipython-input-20-76cf6bcbd0a0>\u001b[0m in \u001b[0;36mcreateMostFrequentfile\u001b[0;34m(path, single_choice, filename)\u001b[0m\n\u001b[1;32m     20\u001b[0m     \u001b[0mprint\u001b[0m\u001b[0;34m(\u001b[0m\u001b[0mmost_freq\u001b[0m\u001b[0;34m)\u001b[0m\u001b[0;34m\u001b[0m\u001b[0;34m\u001b[0m\u001b[0m\n\u001b[1;32m     21\u001b[0m     \u001b[0;32mif\u001b[0m \u001b[0msingle_choice\u001b[0m\u001b[0;34m:\u001b[0m\u001b[0;34m\u001b[0m\u001b[0;34m\u001b[0m\u001b[0m\n\u001b[0;32m---> 22\u001b[0;31m         \u001b[0mmost_freq\u001b[0m\u001b[0;34m.\u001b[0m\u001b[0mto_csv\u001b[0m\u001b[0;34m(\u001b[0m\u001b[0mpathlib\u001b[0m\u001b[0;34m.\u001b[0m\u001b[0mPath\u001b[0m\u001b[0;34m(\u001b[0m\u001b[0;34m)\u001b[0m\u001b[0;34m.\u001b[0m\u001b[0mabsolute\u001b[0m\u001b[0;34m(\u001b[0m\u001b[0;34m)\u001b[0m\u001b[0;34m+\u001b[0m\u001b[0mfilename\u001b[0m\u001b[0;34m)\u001b[0m\u001b[0;34m\u001b[0m\u001b[0;34m\u001b[0m\u001b[0m\n\u001b[0m\u001b[1;32m     23\u001b[0m     \u001b[0;32melse\u001b[0m\u001b[0;34m:\u001b[0m\u001b[0;34m\u001b[0m\u001b[0;34m\u001b[0m\u001b[0m\n\u001b[1;32m     24\u001b[0m         \u001b[0mmost_freq\u001b[0m\u001b[0;34m.\u001b[0m\u001b[0mto_csv\u001b[0m\u001b[0;34m(\u001b[0m\u001b[0mpathlib\u001b[0m\u001b[0;34m.\u001b[0m\u001b[0mPath\u001b[0m\u001b[0;34m(\u001b[0m\u001b[0;34m)\u001b[0m\u001b[0;34m.\u001b[0m\u001b[0mabsolute\u001b[0m\u001b[0;34m(\u001b[0m\u001b[0;34m)\u001b[0m\u001b[0;34m+\u001b[0m\u001b[0mfilename\u001b[0m\u001b[0;34m)\u001b[0m\u001b[0;34m\u001b[0m\u001b[0;34m\u001b[0m\u001b[0m\n",
      "\u001b[0;31mTypeError\u001b[0m: unsupported operand type(s) for +: 'PosixPath' and 'str'"
     ]
    }
   ],
   "source": [
    "# Run cell to create files\n",
    "# Modify the paths to fit your needs\n",
    "\n",
    "path = '/mnt/d/gitted/spatialccobra/benchmarking/data/Ragni2018_carddir.csv'\n",
    "createMostFrequentfile(path, True, 'single-choice.csv')\n",
    "path = '/mnt/d/gitted/spatialccobra/benchmarking/data/Ragni2018_smalllarge.csv'\n",
    "createMostFrequentfile(path, False, 'verification.csv')\n",
    "path = '/mnt/d/gitted/spatialccobra/benchmarking/data/3ps.csv'\n",
    "createMostFrequentfile(path, False, '3ps.csv')\n",
    "path = '/mnt/d/gitted/spatialccobra/benchmarking/data/4ps.csv'\n",
    "createMostFrequentfile(path, False, '4ps.csv')\n"
   ]
  },
  {
   "cell_type": "code",
   "execution_count": null,
   "metadata": {},
   "outputs": [],
   "source": []
  }
 ],
 "metadata": {
  "kernelspec": {
   "display_name": "Python 3",
   "language": "python",
   "name": "python3"
  },
  "language_info": {
   "codemirror_mode": {
    "name": "ipython",
    "version": 3
   },
   "file_extension": ".py",
   "mimetype": "text/x-python",
   "name": "python",
   "nbconvert_exporter": "python",
   "pygments_lexer": "ipython3",
   "version": "3.6.9"
  }
 },
 "nbformat": 4,
 "nbformat_minor": 2
}
